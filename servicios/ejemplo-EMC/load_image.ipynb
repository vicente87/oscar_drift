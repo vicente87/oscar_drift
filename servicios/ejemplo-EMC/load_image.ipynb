{
 "cells": [
  {
   "cell_type": "code",
   "execution_count": 38,
   "id": "629ce748-3bd9-475f-8fcc-258dfafe4906",
   "metadata": {},
   "outputs": [
    {
     "data": {
      "text/plain": [
       "16.666666666666668"
      ]
     },
     "execution_count": 38,
     "metadata": {},
     "output_type": "execute_result"
    }
   ],
   "source": [
    "import os\n",
    "import time\n",
    "import io\n",
    "\n",
    "from minio import Minio\n",
    "import urllib3\n",
    "10000/10/60"
   ]
  },
  {
   "cell_type": "code",
   "execution_count": 31,
   "id": "5b4ca882-311e-4a1f-99a9-b5a8dab2944a",
   "metadata": {},
   "outputs": [],
   "source": [
    "client = Minio(\n",
    "    #\"localhost:30300\",\n",
    "    #\"minio.nervous-brahmagupta6.im.grycap.net\",\n",
    "    \"minio.frosty-grothendieck5.im.grycap.net\",\n",
    "    access_key=\"minio\",\n",
    "    #secret_key=\"MGE3YWI0\",\n",
    "    secret_key=\"minio123\",\n",
    "    secure=True,\n",
    "    region=\"us-east-1\",\n",
    "    \n",
    ")"
   ]
  },
  {
   "cell_type": "code",
   "execution_count": 32,
   "id": "d4684021-612a-403c-b55e-d6278305cdee",
   "metadata": {},
   "outputs": [
    {
     "name": "stdout",
     "output_type": "stream",
     "text": [
      "['test_mnist.png', '123.png', '4321.png', '1234.png', '234.png']\n"
     ]
    }
   ],
   "source": [
    "directorio = '/home/vrodben1/serverless-data-drift-detection/Images'\n",
    "contenido_directorio = os.listdir(directorio)\n",
    "print(contenido_directorio)\n",
    "    "
   ]
  },
  {
   "cell_type": "code",
   "execution_count": 33,
   "id": "8fbbf3ad-72ba-40c9-bb11-896f63f27fd6",
   "metadata": {},
   "outputs": [
    {
     "name": "stdout",
     "output_type": "stream",
     "text": [
      "/home/vrodben1/serverless-data-drift-detection/Images/test_mnist.png\n",
      "b\"\\x89PNG\\r\\n\\x1a\\n\\x00\\x00\\x00\\rIHDR\\x00\\x00\\x00\\x1c\\x00\\x00\\x00\\x1c\\x08\\x00\\x00\\x00\\x00Wf\\x80H\\x00\\x00\\x00\\xc5IDATx\\x9cc`\\x186\\x80\\x11B\\x85\\xa4>\\xfb\\xb1\\xf4\\xc5\\x1d\\xec\\x92\\xf7\\x14\\x18\\x18\\x18>_\\x85\\n>\\xe9:\\xc3\\xc0\\xc0\\xc0\\xc0\\xc0\\x02\\xe1\\xa6\\xea_\\xd32t\\xb0x,\\xcb\\xc0\\xf0\\xe7\\xb5$\\xc3\\xa33\\xc8:\\x19\\x18\\x18\\x18\\x18\\x04\\r\\xcf\\x9820\\xfc\\xb8u](g\\x1a.g\\x04\\xff\\xbd(\\x84KN\\xec\\xe5\\xff`(\\x93\\tC2[\\xf4\\xfdM\\\\\\x1a\\xad\\x7f\\xfe\\xb3\\xc3%\\xc7\\xd0\\xfao7+.9\\xce\\xb3?\\xacpj\\xac\\xfb\\xb7\\r\\xa7\\x9c\\xf7\\xef\\x0f\\x96\\xb8\\xe4\\x84\\xef\\xfe[\\x86K\\x8e\\xf9\\xf4\\xbf\\xdb\\xca\\xb8$\\xd5\\xfe\\xfd\\xf3\\xc5%'\\xff\\xe0_1#.\\xc9\\xd6\\x7f\\xffLp\\xc9\\xd9~B\\x97D\\n[\\x1b\\x1e\\x86\\xbb_P$Y\\x909\\x17\\x9d\\xdf\\xe12\\x16\\x13\\x00\\x00i\\x11<\\x90\\x9b\\x87\\xae\\x00\\x00\\x00\\x00\\x00IEND\\xaeB`\\x82\"\n",
      "/home/vrodben1/serverless-data-drift-detection/Images/123.png\n",
      "b\"\\x89PNG\\r\\n\\x1a\\n\\x00\\x00\\x00\\rIHDR\\x00\\x00\\x00\\x1c\\x00\\x00\\x00\\x1c\\x08\\x00\\x00\\x00\\x00Wf\\x80H\\x00\\x00\\x00\\xc5IDATx\\x9cc`\\x186\\x80\\x11B\\x85\\xa4>\\xfb\\xb1\\xf4\\xc5\\x1d\\xec\\x92\\xf7\\x14\\x18\\x18\\x18>_\\x85\\n>\\xe9:\\xc3\\xc0\\xc0\\xc0\\xc0\\xc0\\x02\\xe1\\xa6\\xea_\\xd32t\\xb0x,\\xcb\\xc0\\xf0\\xe7\\xb5$\\xc3\\xa33\\xc8:\\x19\\x18\\x18\\x18\\x18\\x04\\r\\xcf\\x9820\\xfc\\xb8u](g\\x1a.g\\x04\\xff\\xbd(\\x84KN\\xec\\xe5\\xff`(\\x93\\tC2[\\xf4\\xfdM\\\\\\x1a\\xad\\x7f\\xfe\\xb3\\xc3%\\xc7\\xd0\\xfao7+.9\\xce\\xb3?\\xacpj\\xac\\xfb\\xb7\\r\\xa7\\x9c\\xf7\\xef\\x0f\\x96\\xb8\\xe4\\x84\\xef\\xfe[\\x86K\\x8e\\xf9\\xf4\\xbf\\xdb\\xca\\xb8$\\xd5\\xfe\\xfd\\xf3\\xc5%'\\xff\\xe0_1#.\\xc9\\xd6\\x7f\\xffLp\\xc9\\xd9~B\\x97D\\n[\\x1b\\x1e\\x86\\xbb_P$Y\\x909\\x17\\x9d\\xdf\\xe12\\x16\\x13\\x00\\x00i\\x11<\\x90\\x9b\\x87\\xae\\x00\\x00\\x00\\x00\\x00IEND\\xaeB`\\x82\"\n",
      "/home/vrodben1/serverless-data-drift-detection/Images/4321.png\n",
      "b\"\\x89PNG\\r\\n\\x1a\\n\\x00\\x00\\x00\\rIHDR\\x00\\x00\\x00\\x1c\\x00\\x00\\x00\\x1c\\x08\\x00\\x00\\x00\\x00Wf\\x80H\\x00\\x00\\x00\\xc5IDATx\\x9cc`\\x186\\x80\\x11B\\x85\\xa4>\\xfb\\xb1\\xf4\\xc5\\x1d\\xec\\x92\\xf7\\x14\\x18\\x18\\x18>_\\x85\\n>\\xe9:\\xc3\\xc0\\xc0\\xc0\\xc0\\xc0\\x02\\xe1\\xa6\\xea_\\xd32t\\xb0x,\\xcb\\xc0\\xf0\\xe7\\xb5$\\xc3\\xa33\\xc8:\\x19\\x18\\x18\\x18\\x18\\x04\\r\\xcf\\x9820\\xfc\\xb8u](g\\x1a.g\\x04\\xff\\xbd(\\x84KN\\xec\\xe5\\xff`(\\x93\\tC2[\\xf4\\xfdM\\\\\\x1a\\xad\\x7f\\xfe\\xb3\\xc3%\\xc7\\xd0\\xfao7+.9\\xce\\xb3?\\xacpj\\xac\\xfb\\xb7\\r\\xa7\\x9c\\xf7\\xef\\x0f\\x96\\xb8\\xe4\\x84\\xef\\xfe[\\x86K\\x8e\\xf9\\xf4\\xbf\\xdb\\xca\\xb8$\\xd5\\xfe\\xfd\\xf3\\xc5%'\\xff\\xe0_1#.\\xc9\\xd6\\x7f\\xffLp\\xc9\\xd9~B\\x97D\\n[\\x1b\\x1e\\x86\\xbb_P$Y\\x909\\x17\\x9d\\xdf\\xe12\\x16\\x13\\x00\\x00i\\x11<\\x90\\x9b\\x87\\xae\\x00\\x00\\x00\\x00\\x00IEND\\xaeB`\\x82\"\n",
      "/home/vrodben1/serverless-data-drift-detection/Images/1234.png\n",
      "b\"\\x89PNG\\r\\n\\x1a\\n\\x00\\x00\\x00\\rIHDR\\x00\\x00\\x00\\x1c\\x00\\x00\\x00\\x1c\\x08\\x00\\x00\\x00\\x00Wf\\x80H\\x00\\x00\\x00\\xc5IDATx\\x9cc`\\x186\\x80\\x11B\\x85\\xa4>\\xfb\\xb1\\xf4\\xc5\\x1d\\xec\\x92\\xf7\\x14\\x18\\x18\\x18>_\\x85\\n>\\xe9:\\xc3\\xc0\\xc0\\xc0\\xc0\\xc0\\x02\\xe1\\xa6\\xea_\\xd32t\\xb0x,\\xcb\\xc0\\xf0\\xe7\\xb5$\\xc3\\xa33\\xc8:\\x19\\x18\\x18\\x18\\x18\\x04\\r\\xcf\\x9820\\xfc\\xb8u](g\\x1a.g\\x04\\xff\\xbd(\\x84KN\\xec\\xe5\\xff`(\\x93\\tC2[\\xf4\\xfdM\\\\\\x1a\\xad\\x7f\\xfe\\xb3\\xc3%\\xc7\\xd0\\xfao7+.9\\xce\\xb3?\\xacpj\\xac\\xfb\\xb7\\r\\xa7\\x9c\\xf7\\xef\\x0f\\x96\\xb8\\xe4\\x84\\xef\\xfe[\\x86K\\x8e\\xf9\\xf4\\xbf\\xdb\\xca\\xb8$\\xd5\\xfe\\xfd\\xf3\\xc5%'\\xff\\xe0_1#.\\xc9\\xd6\\x7f\\xffLp\\xc9\\xd9~B\\x97D\\n[\\x1b\\x1e\\x86\\xbb_P$Y\\x909\\x17\\x9d\\xdf\\xe12\\x16\\x13\\x00\\x00i\\x11<\\x90\\x9b\\x87\\xae\\x00\\x00\\x00\\x00\\x00IEND\\xaeB`\\x82\"\n",
      "/home/vrodben1/serverless-data-drift-detection/Images/234.png\n",
      "b\"\\x89PNG\\r\\n\\x1a\\n\\x00\\x00\\x00\\rIHDR\\x00\\x00\\x00\\x1c\\x00\\x00\\x00\\x1c\\x08\\x00\\x00\\x00\\x00Wf\\x80H\\x00\\x00\\x00\\xc5IDATx\\x9cc`\\x186\\x80\\x11B\\x85\\xa4>\\xfb\\xb1\\xf4\\xc5\\x1d\\xec\\x92\\xf7\\x14\\x18\\x18\\x18>_\\x85\\n>\\xe9:\\xc3\\xc0\\xc0\\xc0\\xc0\\xc0\\x02\\xe1\\xa6\\xea_\\xd32t\\xb0x,\\xcb\\xc0\\xf0\\xe7\\xb5$\\xc3\\xa33\\xc8:\\x19\\x18\\x18\\x18\\x18\\x04\\r\\xcf\\x9820\\xfc\\xb8u](g\\x1a.g\\x04\\xff\\xbd(\\x84KN\\xec\\xe5\\xff`(\\x93\\tC2[\\xf4\\xfdM\\\\\\x1a\\xad\\x7f\\xfe\\xb3\\xc3%\\xc7\\xd0\\xfao7+.9\\xce\\xb3?\\xacpj\\xac\\xfb\\xb7\\r\\xa7\\x9c\\xf7\\xef\\x0f\\x96\\xb8\\xe4\\x84\\xef\\xfe[\\x86K\\x8e\\xf9\\xf4\\xbf\\xdb\\xca\\xb8$\\xd5\\xfe\\xfd\\xf3\\xc5%'\\xff\\xe0_1#.\\xc9\\xd6\\x7f\\xffLp\\xc9\\xd9~B\\x97D\\n[\\x1b\\x1e\\x86\\xbb_P$Y\\x909\\x17\\x9d\\xdf\\xe12\\x16\\x13\\x00\\x00i\\x11<\\x90\\x9b\\x87\\xae\\x00\\x00\\x00\\x00\\x00IEND\\xaeB`\\x82\"\n"
     ]
    }
   ],
   "source": [
    "for elemento in contenido_directorio:\n",
    "            ruta_elemento = os.path.join(directorio, elemento)\n",
    "            print(ruta_elemento)\n",
    "            if os.path.isfile(ruta_elemento):\n",
    "                with open(ruta_elemento, 'rb') as archivo:\n",
    "                    contenido = archivo.read()\n",
    "                    print(contenido)\n",
    "                    time.sleep(0.2)\n",
    "                    result = client.put_object(\"upload\", \"input/\"+elemento, io.BytesIO(contenido), length=len(contenido),content_type=\"image/png\",)"
   ]
  },
  {
   "cell_type": "code",
   "execution_count": null,
   "id": "2464e23a-ecb7-4e56-9858-ddd0a55fa644",
   "metadata": {},
   "outputs": [],
   "source": []
  }
 ],
 "metadata": {
  "kernelspec": {
   "display_name": "Python 3 (ipykernel)",
   "language": "python",
   "name": "python3"
  },
  "language_info": {
   "codemirror_mode": {
    "name": "ipython",
    "version": 3
   },
   "file_extension": ".py",
   "mimetype": "text/x-python",
   "name": "python",
   "nbconvert_exporter": "python",
   "pygments_lexer": "ipython3",
   "version": "3.10.6"
  }
 },
 "nbformat": 4,
 "nbformat_minor": 5
}
